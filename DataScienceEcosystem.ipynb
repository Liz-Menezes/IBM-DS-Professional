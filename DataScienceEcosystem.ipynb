{
  "nbformat": 4,
  "nbformat_minor": 0,
  "metadata": {
    "colab": {
      "provenance": []
    },
    "kernelspec": {
      "name": "python3",
      "display_name": "Python 3"
    },
    "language_info": {
      "name": "python"
    }
  },
  "cells": [
    {
      "cell_type": "code",
      "source": [
        "#Exercise 11 - - Create a markdown cell to indicate the Author's name"
      ],
      "metadata": {
        "id": "L59qx4TL5qm2"
      },
      "execution_count": 9,
      "outputs": []
    },
    {
      "cell_type": "markdown",
      "source": [
        "##Author\n",
        "Liz Menezes"
      ],
      "metadata": {
        "id": "VsInvUAB5CEw"
      }
    },
    {
      "cell_type": "code",
      "source": [
        "#Exercise 2 - Create markdown cell with title of the notebook"
      ],
      "metadata": {
        "id": "B7E3xJiOzd7t"
      },
      "execution_count": 10,
      "outputs": []
    },
    {
      "cell_type": "markdown",
      "source": [
        "#Data Science Tools and Ecosystem"
      ],
      "metadata": {
        "id": "l2euQaJFzRz2"
      }
    },
    {
      "cell_type": "code",
      "source": [
        "#**Exercise 3 - Create a markdown cell for an introduction** Write an introductory sentence about the notebook such as the follows:"
      ],
      "metadata": {
        "id": "0qA1b0k-z4jz"
      },
      "execution_count": 2,
      "outputs": []
    },
    {
      "cell_type": "markdown",
      "source": [
        "In this notebook, Data Science Tools and Ecosystem are summarized."
      ],
      "metadata": {
        "id": "lvu5KerVz1mo"
      }
    },
    {
      "cell_type": "code",
      "source": [
        "#Exercise 10 - Insert a markdown cell to list Objectives"
      ],
      "metadata": {
        "id": "PeG6vP6x4xiw"
      },
      "execution_count": 11,
      "outputs": []
    },
    {
      "cell_type": "markdown",
      "source": [
        "**Objectives:**\n",
        "- List popular languages for Data Science\n",
        "- List commonly used Data Science Libraries\n",
        "- List Open Source Data Science Tools\n",
        "- Run simple arithmetic expressions in Python"
      ],
      "metadata": {
        "id": "RTWooZHV4yTD"
      }
    },
    {
      "cell_type": "code",
      "source": [
        "#Exercise 4 - Create a markdown cell to list data science languages"
      ],
      "metadata": {
        "id": "tGry8LvizX6H"
      },
      "execution_count": 3,
      "outputs": []
    },
    {
      "cell_type": "markdown",
      "source": [
        "Some of the popular languages that Data Scientists use are:\n",
        "1. Python\n",
        "2. R\n",
        "3. SQL\n",
        "4. Java\n",
        "5. C++"
      ],
      "metadata": {
        "id": "D_latdDJ0RC1"
      }
    },
    {
      "cell_type": "code",
      "source": [
        "#Exercise 5 - Create a markdown cell to list data science libraries"
      ],
      "metadata": {
        "id": "7eMYqQyJ0s1s"
      },
      "execution_count": null,
      "outputs": []
    },
    {
      "cell_type": "markdown",
      "source": [
        "Some of the commonly used libraries used by Data Scientists include:\n",
        "1. Pandas\n",
        "2. Matplotlib\n",
        "3. TensorFlow\n",
        "4. Keras\n",
        "5. Scikit-learn"
      ],
      "metadata": {
        "id": "qP8piJJQ09V1"
      }
    },
    {
      "cell_type": "code",
      "source": [
        "#Exercise 6 - Create a markdown cell with a table of Data Science tools"
      ],
      "metadata": {
        "id": "qF2XifnA1hx5"
      },
      "execution_count": 4,
      "outputs": []
    },
    {
      "cell_type": "markdown",
      "source": [
        "|Data Science Tools|\n",
        "|------------------|\n",
        "|Jupyter|\n",
        "|RStudio|\n",
        "|Apache Zeppelin|\n",
        "|Spyder|"
      ],
      "metadata": {
        "id": "845hkIlP1vIZ"
      }
    },
    {
      "cell_type": "code",
      "source": [
        "#Exercise 7 - Create a markdown cell introducing arithmetic expression examples"
      ],
      "metadata": {
        "id": "1W--2Pe-22AU"
      },
      "execution_count": 5,
      "outputs": []
    },
    {
      "cell_type": "markdown",
      "source": [
        "###Below are a few examples of evaluating arithmetic expressions in Python."
      ],
      "metadata": {
        "id": "il2EvZg93CUG"
      }
    },
    {
      "cell_type": "code",
      "source": [
        "# This a simple arithmetic expression to mutiply then add integers\n",
        "(3*4)+5"
      ],
      "metadata": {
        "colab": {
          "base_uri": "https://localhost:8080/"
        },
        "id": "zcTlGOmi3Bat",
        "outputId": "71909c65-ef35-49b9-96b7-c05eca21828a"
      },
      "execution_count": 7,
      "outputs": [
        {
          "output_type": "execute_result",
          "data": {
            "text/plain": [
              "17"
            ]
          },
          "metadata": {},
          "execution_count": 7
        }
      ]
    },
    {
      "cell_type": "code",
      "source": [
        "#Exercise 9 - Create a code cell to convert minutes to hours\n",
        "#This will convert 200 minutes to hours by diving by 60.\n",
        "200/60"
      ],
      "metadata": {
        "colab": {
          "base_uri": "https://localhost:8080/"
        },
        "id": "wVMSYv8a3fxI",
        "outputId": "02bcdfd0-2d3b-4384-afea-e1a462867fa9"
      },
      "execution_count": 8,
      "outputs": [
        {
          "output_type": "execute_result",
          "data": {
            "text/plain": [
              "3.3333333333333335"
            ]
          },
          "metadata": {},
          "execution_count": 8
        }
      ]
    }
  ]
}